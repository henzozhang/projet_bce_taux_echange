{
 "cells": [
  {
   "cell_type": "code",
   "execution_count": null,
   "metadata": {},
   "outputs": [],
   "source": [
    "@echo off\n",
    "python fichier1.py\n",
    "python fichier2.py\n",
    "python fichier3.py\n",
    "REM Ajoutez autant de fichiers que vous le souhaitez\n"
   ]
  },
  {
   "cell_type": "markdown",
   "metadata": {},
   "source": [
    "Enregistrez le fichier avec une extension .bat, par exemple, execute.bat.\n",
    "\n",
    "Double-cliquez sur le fichier execute.bat pour l'exécuter. Cela lancera les fichiers Python l'un après l'autre.\n",
    "\n",
    "Assurez-vous que les fichiers Python que vous souhaitez exécuter se trouvent dans le même répertoire que le script shell ou le fichier batch, ou spécifiez le chemin complet vers ces fichiers si nécessaire.\n",
    "\n",
    "\n",
    "\n",
    "\n"
   ]
  },
  {
   "cell_type": "code",
   "execution_count": null,
   "metadata": {},
   "outputs": [],
   "source": [
    "# fonctions.py\n",
    "def ma_fonction():\n",
    "    print(\"Cette fonction a été importée avec succès.\")\n"
   ]
  },
  {
   "cell_type": "code",
   "execution_count": null,
   "metadata": {},
   "outputs": [],
   "source": [
    "# mon_script.py\n",
    "import fonctions  # Importez le module (le nom du fichier sans l'extension .py)\n",
    "\n",
    "# Utilisez la fonction du module\n",
    "fonctions.ma_fonction()\n"
   ]
  }
 ],
 "metadata": {
  "language_info": {
   "name": "python"
  },
  "orig_nbformat": 4
 },
 "nbformat": 4,
 "nbformat_minor": 2
}
