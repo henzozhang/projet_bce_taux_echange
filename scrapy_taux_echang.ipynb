{
 "cells": [
  {
   "cell_type": "code",
   "execution_count": null,
   "metadata": {},
   "outputs": [],
   "source": [
    "import requests\n",
    "import csv\n",
    "from datetime import datetime\n",
    "\n",
    "# URL de la page avec les données\n",
    "url = \"https://www.ecb.europa.eu/stats/eurofxref/eurofxref-hist.xml\"\n",
    "\n",
    "# Obtenir le contenu de la page\n",
    "response = requests.get(url)\n",
    "data = response.content\n",
    "\n",
    "# Analyser les données XML (vous pouvez utiliser une bibliothèque comme xml.etree.ElementTree)\n",
    "# Pour cet exemple, nous supposerons que vous avez extrait les données nécessaires dans une liste appelée 'exchange_rates'\n",
    "\n",
    "# Exemple de données simulées\n",
    "exchange_rates = [\n",
    "    {\"date\": \"2023-08-10\", \"USD\": \"1.1754\", \"JPY\": \"130.09\", \"GBP\": \"0.8501\"},\n",
    "    # ... autres données ...\n",
    "]\n",
    "\n",
    "# Nom du fichier CSV à enregistrer\n",
    "csv_filename = \"exchange_rates.csv\"\n",
    "\n",
    "# Enregistrer les données dans un fichier CSV\n",
    "with open(csv_filename, mode=\"w\", newline=\"\") as csv_file:\n",
    "    fieldnames = [\"date\", \"USD\", \"JPY\", \"GBP\"]  # Remplacez ces champs par ceux que vous avez obtenus\n",
    "    writer = csv.DictWriter(csv_file, fieldnames=fieldnames)\n",
    "\n",
    "    writer.writeheader()\n",
    "    for rate in exchange_rates:\n",
    "        writer.writerow(rate)\n",
    "\n",
    "print(\"Données enregistrées dans\", csv_filename)\n"
   ]
  },
  {
   "cell_type": "code",
   "execution_count": 1,
   "metadata": {},
   "outputs": [
    {
     "ename": "ModuleNotFoundError",
     "evalue": "No module named 'requests'",
     "output_type": "error",
     "traceback": [
      "\u001b[0;31m---------------------------------------------------------------------------\u001b[0m",
      "\u001b[0;31mModuleNotFoundError\u001b[0m                       Traceback (most recent call last)",
      "Cell \u001b[0;32mIn[1], line 1\u001b[0m\n\u001b[0;32m----> 1\u001b[0m \u001b[39mimport\u001b[39;00m \u001b[39mrequests\u001b[39;00m\n\u001b[1;32m      2\u001b[0m \u001b[39mimport\u001b[39;00m \u001b[39mcsv\u001b[39;00m\n\u001b[1;32m      3\u001b[0m \u001b[39mfrom\u001b[39;00m \u001b[39mdatetime\u001b[39;00m \u001b[39mimport\u001b[39;00m datetime\n",
      "\u001b[0;31mModuleNotFoundError\u001b[0m: No module named 'requests'"
     ]
    }
   ],
   "source": [
    "import requests\n",
    "import csv\n",
    "from datetime import datetime\n",
    "import zipfile\n",
    "import io"
   ]
  },
  {
   "cell_type": "code",
   "execution_count": 9,
   "metadata": {},
   "outputs": [],
   "source": [
    "url ='https://www.ecb.europa.eu/stats/eurofxref/eurofxref-hist.zip?bd049ef55462a7bf91e6643cd0735a01'\n"
   ]
  },
  {
   "cell_type": "code",
   "execution_count": 11,
   "metadata": {},
   "outputs": [
    {
     "name": "stdout",
     "output_type": "stream",
     "text": [
      "Extraction réussie.\n"
     ]
    }
   ],
   "source": [
    "response = requests.get(url)\n",
    "if response.status_code == 200:\n",
    "    # Extraction du contenu du fichier zip dans un objet de type ZipFile\n",
    "    with zipfile.ZipFile(io.BytesIO(response.content), 'r') as zip_ref:\n",
    "        # Choisissez l'emplacement où vous souhaitez extraire les fichiers\n",
    "        extraction_path = 'dossier_taux_bce'\n",
    "        zip_ref.extractall(extraction_path)\n",
    "    print(\"Extraction réussie.\")\n",
    "else:\n",
    "    print(\"Échec de la requête de téléchargement.\")"
   ]
  }
 ],
 "metadata": {
  "kernelspec": {
   "display_name": "env",
   "language": "python",
   "name": "python3"
  },
  "language_info": {
   "codemirror_mode": {
    "name": "ipython",
    "version": 3
   },
   "file_extension": ".py",
   "mimetype": "text/x-python",
   "name": "python",
   "nbconvert_exporter": "python",
   "pygments_lexer": "ipython3",
   "version": "3.10.11"
  },
  "orig_nbformat": 4
 },
 "nbformat": 4,
 "nbformat_minor": 2
}
