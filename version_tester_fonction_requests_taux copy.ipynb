{
 "cells": [
  {
   "attachments": {},
   "cell_type": "markdown",
   "metadata": {},
   "source": [
    "# fonction de creation de tableau de taux d'echange\n"
   ]
  },
  {
   "cell_type": "code",
   "execution_count": 1,
   "metadata": {},
   "outputs": [],
   "source": [
    "import requests\n",
    "import pandas as pd\n",
    "from io import BytesIO\n",
    "import zipfile\n",
    "import os\n",
    "\n",
    "def download_and_process_csv(url, list_currency=None, start_date=None, end_date=None, folder_path=None):\n",
    "    # Télécharger le fichier ZIP depuis l'URL\n",
    "    response = requests.get(url)\n",
    "    with zipfile.ZipFile(BytesIO(response.content), 'r') as zip_ref:\n",
    "        # Extraire le fichier CSV contenu dans le ZIP\n",
    "        csv_filename = zip_ref.namelist()[0]\n",
    "        extraction_path = 'dossier_taux_bce'\n",
    "        zip_ref.extractall(extraction_path)\n",
    "        with zip_ref.open(csv_filename) as csv_file:\n",
    "            # Charger le CSV en DataFrame pandas\n",
    "            df = pd.read_csv(csv_file)\n",
    "    df.rename(columns={'Date': 'date'}, inplace=True)\n",
    "    \n",
    "    df['date'] = pd.to_datetime(df['date'])\n",
    "\n",
    "    # Créer un nouveau DataFrame avec les colonnes de list_currency\n",
    "    if list_currency:\n",
    "        currency_columns = ['date'] + list_currency\n",
    "        df = df[currency_columns]\n",
    "    \n",
    "    # Filtrer le DataFrame en fonction de start_date et end_date\n",
    "    if start_date:\n",
    "        if end_date:\n",
    "            mask = (df['date'] >= start_date) & (df['date'] <= end_date)\n",
    "            df = df.loc[mask]\n",
    "        \n",
    "        else:\n",
    "            mask = df['date'] >= start_date\n",
    "            df = df.loc[mask]\n",
    "\n",
    "    else:\n",
    "        if end_date: \n",
    "            mask = df['date'] <= end_date\n",
    "            df = df.loc[mask]\n",
    "   \n",
    "\n",
    "    melted_df = df.melt(id_vars=['date'], var_name='key_change', value_name='taux').sort_values([ 'date','key_change'],ascending=False)\n",
    "    melted_df['x_vers_euro'] = 1 / melted_df['taux']\n",
    "    \n",
    "    # Exporter le DataFrame en tant que CSV dans le dossier spécifié\n",
    "    if folder_path:\n",
    "        if not os.path.exists(folder_path):\n",
    "            os.makedirs(folder_path)\n",
    "        \n",
    "        output_filename = os.path.join(folder_path, 'filtered_currency_data_abc.csv')\n",
    "        melted_df.to_csv(output_filename, index=False)\n",
    "        print(f\"Fichier CSV exporté avec succès vers {output_filename}\")\n",
    "    else:\n",
    "        folder_path=extraction_path\n",
    "        output_filename = os.path.join(folder_path, 'filtered_currency_data_abc.csv')\n",
    "        melted_df.to_csv(output_filename, index=False)\n",
    "        print(f\"Fichier CSV exporté avec succès vers {output_filename}\")\n",
    "\n",
    "\n"
   ]
  },
  {
   "cell_type": "code",
   "execution_count": 2,
   "metadata": {},
   "outputs": [
    {
     "name": "stdout",
     "output_type": "stream",
     "text": [
      "Fichier CSV exporté avec succès vers dossier_taux_bce/filtered_currency_data_abc.csv\n"
     ]
    }
   ],
   "source": [
    "# Exemple d'utilisation de la fonction\n",
    "url ='https://www.ecb.europa.eu/stats/eurofxref/eurofxref-hist.zip?bd049ef55462a7bf91e6643cd0735a01'\n",
    "list_currency = ['USD','JPY']\n",
    "#list_currency = None\n",
    "start_date = None\n",
    "end_date = None\n",
    "folder_path = None\n",
    "\n",
    "#download_and_process_csv(url, list_currency, start_date, end_date, folder_path)\n",
    "download_and_process_csv(url, list_currency, start_date, end_date, folder_path)"
   ]
  }
 ],
 "metadata": {
  "kernelspec": {
   "display_name": "env",
   "language": "python",
   "name": "python3"
  },
  "language_info": {
   "codemirror_mode": {
    "name": "ipython",
    "version": 3
   },
   "file_extension": ".py",
   "mimetype": "text/x-python",
   "name": "python",
   "nbconvert_exporter": "python",
   "pygments_lexer": "ipython3",
   "version": "3.9.12"
  },
  "orig_nbformat": 4
 },
 "nbformat": 4,
 "nbformat_minor": 2
}
